{
 "cells": [
  {
   "cell_type": "markdown",
   "id": "04375f04",
   "metadata": {},
   "source": [
    "\n",
    "# PyPowSyBl: Load PSS/E RAW, Run Power Flow, and Compute PTDF\n",
    "\n",
    "1. Load PSS/E RAW\n",
    "2. Run AC LF\n",
    "3. Run DC LF\n",
    "4. Compute PTDF\n"
   ]
  },
  {
   "cell_type": "code",
   "execution_count": 1,
   "id": "3a4d15f2",
   "metadata": {},
   "outputs": [],
   "source": [
    "import pandas as pd\n",
    "import pypowsybl as pp\n",
    "import pypowsybl.network as pn\n",
    "import pypowsybl.loadflow as lf\n",
    "import pypowsybl.sensitivity as sens\n",
    "from pathlib import Path"
   ]
  },
  {
   "cell_type": "markdown",
   "id": "54637bb2",
   "metadata": {},
   "source": [
    "## 1. Load PSS/E RAW"
   ]
  },
  {
   "cell_type": "code",
   "execution_count": 2,
   "id": "1ab034da",
   "metadata": {},
   "outputs": [
    {
     "name": "stdout",
     "output_type": "stream",
     "text": [
      "CPU times: user 865 ms, sys: 43.4 ms, total: 909 ms\n",
      "Wall time: 969 ms\n"
     ]
    }
   ],
   "source": [
    "%%time\n",
    "test_system_dir = \"./Test System/\" # The system path goes here\n",
    "RAW_PATH = Path(test_system_dir + \"SmallSystem_case.raw\")\n",
    "network = pn.load(str(RAW_PATH), {})\n",
    "buses = network.get_buses()\n",
    "branches = network.get_branches()\n",
    "generators = network.get_generators()\n",
    "loads = network.get_loads()"
   ]
  },
  {
   "cell_type": "markdown",
   "id": "9641b64a",
   "metadata": {},
   "source": [
    "## 2. Run AC Power Flow"
   ]
  },
  {
   "cell_type": "code",
   "execution_count": 3,
   "id": "5cd869fc",
   "metadata": {},
   "outputs": [
    {
     "name": "stdout",
     "output_type": "stream",
     "text": [
      "CPU times: user 435 ms, sys: 19.4 ms, total: 454 ms\n",
      "Wall time: 468 ms\n"
     ]
    }
   ],
   "source": [
    "%%time\n",
    "ac_params = lf.Parameters(distributed_slack=True)\n",
    "ac_results = lf.run_ac(network, parameters=ac_params)"
   ]
  },
  {
   "cell_type": "markdown",
   "id": "4c2b2c9c",
   "metadata": {},
   "source": [
    "## 3. Run DC Power Flow"
   ]
  },
  {
   "cell_type": "code",
   "execution_count": 4,
   "id": "9a9f32f6",
   "metadata": {},
   "outputs": [
    {
     "name": "stdout",
     "output_type": "stream",
     "text": [
      "CPU times: user 87 ms, sys: 6.09 ms, total: 93.1 ms\n",
      "Wall time: 92.2 ms\n"
     ]
    }
   ],
   "source": [
    "%%time\n",
    "dc_params = lf.Parameters(dc_use_transformer_ratio=False, distributed_slack=True,\n",
    "                           balance_type=lf.BalanceType.PROPORTIONAL_TO_GENERATION_P_MAX)\n",
    "dc_results = lf.run_dc(network, dc_params)"
   ]
  },
  {
   "cell_type": "markdown",
   "id": "da099af1",
   "metadata": {},
   "source": [
    "## 4. Compute a PTDF matrix (DC approximation)"
   ]
  },
  {
   "cell_type": "code",
   "execution_count": 8,
   "id": "84760a99-1a99-4bac-90be-d32e32ac3981",
   "metadata": {},
   "outputs": [
    {
     "name": "stdout",
     "output_type": "stream",
     "text": [
      "CPU times: user 37.9 s, sys: 5.95 s, total: 43.8 s\n",
      "Wall time: 46.1 s\n"
     ]
    }
   ],
   "source": [
    "%%time \n",
    "\n",
    "#Create sensitivity analysis\n",
    "analysis = sens.create_dc_analysis()\n",
    "\n",
    "# Include all injection points\n",
    "injection_ids = []\n",
    "injection_ids.extend(generators.index.tolist())\n",
    "injection_ids.extend(loads.index.tolist())\n",
    "branch_ids = branches.index.tolist()\n",
    "\n",
    "# Add sensitivity matrix\n",
    "analysis.add_branch_flow_factor_matrix(\n",
    "    branches_ids=branch_ids,\n",
    "    variables_ids=injection_ids,\n",
    "    matrix_id='full_ptdf'\n",
    ")\n",
    "\n",
    "# Run analysis\n",
    "result = analysis.run(network)\n",
    "full_ptdf = result.get_sensitivity_matrix('full_ptdf')"
   ]
  },
  {
   "cell_type": "markdown",
   "id": "2afc8324",
   "metadata": {},
   "source": [
    "## 5. Run Contingency Sensitivity Computation"
   ]
  },
  {
   "cell_type": "code",
   "execution_count": 12,
   "id": "67888758",
   "metadata": {},
   "outputs": [],
   "source": [
    "test_system_dir = \"./Test System/\" # The system path goes here\n",
    "RAW_PATH = Path(test_system_dir + \"SmallSystem_case.raw\")\n",
    "network = pn.load(str(RAW_PATH), {})\n",
    "buses = network.get_buses()\n",
    "branches = network.get_branches()[0:1000]\n",
    "generators = network.get_generators()[0:250]\n",
    "loads = network.get_loads()[0:250]"
   ]
  },
  {
   "cell_type": "code",
   "execution_count": 13,
   "id": "0712c525",
   "metadata": {},
   "outputs": [
    {
     "name": "stdout",
     "output_type": "stream",
     "text": [
      "CPU times: user 45 s, sys: 681 ms, total: 45.6 s\n",
      "Wall time: 45.7 s\n"
     ]
    }
   ],
   "source": [
    "%%time\n",
    "\n",
    "# Create sensitivity analysis\n",
    "analysis = sens.create_dc_analysis()\n",
    "\n",
    "# Include all injection points\n",
    "injection_ids = []\n",
    "injection_ids.extend(generators.index.tolist())\n",
    "injection_ids.extend(loads.index.tolist())\n",
    "\n",
    "branch_ids = branches.index.tolist()\n",
    "\n",
    "# Add sensitivity matrix\n",
    "analysis.add_branch_flow_factor_matrix(\n",
    "    branches_ids=branch_ids,\n",
    "    variables_ids=injection_ids\n",
    ")\n",
    "\n",
    "# Set the params\n",
    "parameters_lf = pp.loadflow.Parameters(\n",
    "    distributed_slack=True,\n",
    "    connected_component_mode=pp.loadflow.ConnectedComponentMode.MAIN,\n",
    ")\n",
    "\n",
    "# Add contingencies\n",
    "for contingency in branch_ids[1:500]: # for full contingency analysis use branch_ids instead of branch_ids[1:500]\n",
    "    analysis.add_single_element_contingency(contingency)\n",
    "\n",
    "# Run analysis\n",
    "result = analysis.run(network, parameters_lf)"
   ]
  }
 ],
 "metadata": {
  "kernelspec": {
   "display_name": "Python 3 (ipykernel)",
   "language": "python",
   "name": "python3"
  },
  "language_info": {
   "codemirror_mode": {
    "name": "ipython",
    "version": 3
   },
   "file_extension": ".py",
   "mimetype": "text/x-python",
   "name": "python",
   "nbconvert_exporter": "python",
   "pygments_lexer": "ipython3",
   "version": "3.12.0"
  }
 },
 "nbformat": 4,
 "nbformat_minor": 5
}
